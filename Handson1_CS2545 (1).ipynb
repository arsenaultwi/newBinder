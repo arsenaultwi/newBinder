{
 "cells": [
  {
   "cell_type": "markdown",
   "id": "8fcf65eb",
   "metadata": {},
   "source": [
    "# Hands-on 1\n",
    "\n",
    "### CS2545 - Data Science ###\n",
    "### Winter, 2023 ###\n",
    "### UNB, Fredericton ###\n",
    "\n",
    "Please complete the following tasks per instructions provided. Please complete the following and submit this notebook (filename: handson1-lastname-firstname.ipynb) on D2L by 11:59pm, January 27. \n",
    "</br>\n",
    "</br>\n",
    "</br>\n"
   ]
  },
  {
   "cell_type": "markdown",
   "id": "d7457277",
   "metadata": {},
   "source": [
    "**[1.]** The list *polygons_list* below contains the names of the polygons with the number sides varied from 3 to 15. For instance, Triangle is a polygon with 3 sides, Hexagon is a polygon with 6 sides.\n",
    "\n",
    "**[1.a]** Using \"list slicing\" print first 5 and last 4 entries in *polygons_list*. **[4 points]**\n",
    "\n",
    "\n",
    "**[1.b]** Write Python code that iterates over the elements of *polygons_list* and prints each element (i.e. as a string), its number of sides, and its sum of angles. **[6 points]**\n",
    "\n",
    "Example output: <br>\n",
    "Triangle: 3 -> 180 <br>\n",
    "Square: 4 -> 360 <br>\n",
    "Pentagon: 5 -> 540 <br>"
   ]
  },
  {
   "cell_type": "code",
   "execution_count": null,
   "id": "d3f5999f",
   "metadata": {},
   "outputs": [],
   "source": [
    "polygons_lst = ['Triangle', 'Square', 'Pentagon', 'Hexagon', 'Heptagon', 'Octagon', 'Nonagon', 'Decagon', 'Hendecagon', 'Dodecagon', 'Tridecagon', 'Tetradecagon', 'Pentadecagon']\n",
    "\n",
    "# write your code below\n",
    "\n",
    "# 1.a) \n",
    "\n",
    "\n",
    "\n",
    "# 1.b) \n"
   ]
  },
  {
   "cell_type": "markdown",
   "id": "dce4fcc3",
   "metadata": {},
   "source": [
    "**Example code**  The following code snippet uses Python graphics library Turtle. Execute the code. There will be a pop-up window where the image will be rendered.\n",
    "\n",
    "More info about Turtle library is here: https://docs.python.org/3.8/library/turtle.html"
   ]
  },
  {
   "cell_type": "code",
   "execution_count": 2,
   "id": "fbaa6251",
   "metadata": {},
   "outputs": [],
   "source": [
    "import turtle\n",
    "\n",
    "\n",
    "polygon = turtle.Turtle() \n",
    "  \n",
    "    \n",
    "side_length = 100\n",
    "angle = 360.0 / 3  \n",
    "  \n",
    "polygon.forward(side_length) \n",
    "polygon.right(angle) \n",
    "\n",
    "polygon.forward(side_length) \n",
    "polygon.right(angle) \n",
    "\n",
    "polygon.forward(side_length) \n",
    "polygon.right(angle) \n",
    "\n",
    "\n",
    "# close resources properly \n",
    "# https://stackoverflow.com/questions/7217405/turtle-graphics-not-responding\n",
    "polygon.hideturtle()\n",
    "turtle.done() \n",
    "try:\n",
    "    turtle.bye()   \n",
    "except turtle.Terminator:\n",
    "    pass"
   ]
  },
  {
   "cell_type": "markdown",
   "id": "e9124150",
   "metadata": {},
   "source": [
    "**2.** Modify the example code above. Write code to draw a polygon with the number of sides based on user input *Sides* where *Sides* is the number of sides in the polygon to draw. Your code should do the following.\n",
    "\n",
    "First, print the name of the polygon representing the polygon with number of sides based on user input (e.g. 'Square' for number of sides as 4).\n",
    "\n",
    "Then, draw a polygon with the number of sides based on user input. **[10 points]**"
   ]
  },
  {
   "cell_type": "code",
   "execution_count": 5,
   "id": "d0d7fe15",
   "metadata": {},
   "outputs": [
    {
     "name": "stdout",
     "output_type": "stream",
     "text": [
      "Input Number of Sides:4\n",
      "Number of Sides = 4\n"
     ]
    },
    {
     "ename": "NameError",
     "evalue": "name 'name' is not defined",
     "output_type": "error",
     "traceback": [
      "\u001b[0;31m---------------------------------------------------------------------------\u001b[0m",
      "\u001b[0;31mNameError\u001b[0m                                 Traceback (most recent call last)",
      "\u001b[0;32m/var/folders/vc/1nv4c0yj5ks1872m9f20ndhh0000gn/T/ipykernel_5338/2840848960.py\u001b[0m in \u001b[0;36m<module>\u001b[0;34m\u001b[0m\n\u001b[1;32m     13\u001b[0m \u001b[0;34m\u001b[0m\u001b[0m\n\u001b[1;32m     14\u001b[0m     \u001b[0;31m# print the name of the polygon with the user specified number of sides\u001b[0m\u001b[0;34m\u001b[0m\u001b[0;34m\u001b[0m\u001b[0m\n\u001b[0;32m---> 15\u001b[0;31m     \u001b[0mprint\u001b[0m \u001b[0;34m(\u001b[0m\u001b[0;34m\"The Name of the Polygon is: \"\u001b[0m\u001b[0;34m,\u001b[0m \u001b[0mname\u001b[0m\u001b[0;34m)\u001b[0m\u001b[0;34m\u001b[0m\u001b[0;34m\u001b[0m\u001b[0m\n\u001b[0m\u001b[1;32m     16\u001b[0m \u001b[0;34m\u001b[0m\u001b[0m\n\u001b[1;32m     17\u001b[0m \u001b[0;34m\u001b[0m\u001b[0m\n",
      "\u001b[0;31mNameError\u001b[0m: name 'name' is not defined"
     ]
    }
   ],
   "source": [
    "import turtle\n",
    "\n",
    "Sides = input(\"Input Number of Sides:\")\n",
    "num_sides = int(Sides)\n",
    "\n",
    "print (\"Number of Sides =\", num_sides)\n",
    "\n",
    "if num_sides not in range (3,16):\n",
    "    print (\"Out of Range\")\n",
    "else:    \n",
    "    \n",
    "    # write your code below\n",
    "    \n",
    "    # print the name of the polygon with the user specified number of sides\n",
    "    print (\"The Name of the Polygon is: \", name)\n",
    "   \n",
    "    \n",
    "    # draw the polygon with the user specified number of sides\n",
    "    \n",
    "    "
   ]
  },
  {
   "cell_type": "code",
   "execution_count": null,
   "id": "ad381183",
   "metadata": {},
   "outputs": [],
   "source": []
  }
 ],
 "metadata": {
  "kernelspec": {
   "display_name": "Python 3 (ipykernel)",
   "language": "python",
   "name": "python3"
  },
  "language_info": {
   "codemirror_mode": {
    "name": "ipython",
    "version": 3
   },
   "file_extension": ".py",
   "mimetype": "text/x-python",
   "name": "python",
   "nbconvert_exporter": "python",
   "pygments_lexer": "ipython3",
   "version": "3.9.13"
  }
 },
 "nbformat": 4,
 "nbformat_minor": 5
}

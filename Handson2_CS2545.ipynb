{
 "cells": [
  {
   "cell_type": "markdown",
   "metadata": {},
   "source": [
    "# Hands-on 2\n",
    "\n",
    "### CS2545 - Data Science ###\n",
    "### Winter, 2023 ###\n",
    "### UNB, Fredericton ###\n",
    "\n",
    "Please complete the following and submit this notebook (filename: handson2-**lastname**-**firstname**.ipynb) to D2L by 11:59 pm, Friday, February 10. \n",
    "</br>\n",
    "</br>\n",
    "</br>"
   ]
  },
  {
   "cell_type": "markdown",
   "metadata": {},
   "source": [
    "**1.**  Download the *cereal.csv* file from D2L in the current folder. This includes information about the per serving nutritional content of a number of breakfast cereals. The columns in this file represent the following fields (detail and short) and data types: <br>\n",
    "cereal name [name] - String <br>\n",
    "manufacturer [mfr] - String <br>\n",
    "type (cold/hot) [type] - String  <br>\n",
    "calories (number) [calories] - Int <br>\n",
    "protein(g) [protein] - Int <br>\n",
    "fat(g) [fat] - Int <br>\n",
    "sodium(mg) [sodium] - Int <br>\n",
    "dietary fiber(g) [fiber] - Float <br>\n",
    "complex carbohydrates(g) [carbo] - Float <br>\n",
    "sugars(g) [sugars] -  Int <br>\n",
    "display shelf (1, 2, or 3, counting from the floor) [shelf] - Int <br>\n",
    "potassium(mg) [potass] - Int <br>\n",
    "vitamins & minerals  [vitamins] - Int <br>\n",
    "weight (in ounces) of one serving (single serving size) [weight] - Float <br>\n",
    "cups per serving [cups] - Float <br>\n",
    "rating - Float <br>\n",
    "<br>\n",
    "\n",
    "Note, the value -1 indicates missing data.\n",
    "\n",
    "Write a program to read the CSV file and answer the following questions:\n",
    "\n",
    "**1.a** Which manufacturer(s) produces the most number of cereal? (**2 points**)\n",
    "\n",
    "**1.b** Which cereal(s) have the highest calories per serving? (**2 points**)\n",
    "\n",
    "**1.c** Which cereal(s) have the highest sugar per serving? (**2 points**)\n",
    "\n",
    "**1.d** What are the five most popular and five least popular cereals according to the ratings? (i.e., higher rating means more popular) (**4 points**)\n"
   ]
  },
  {
   "cell_type": "code",
   "execution_count": 3,
   "metadata": {},
   "outputs": [
    {
     "name": "stdout",
     "output_type": "stream",
     "text": [
      "The name(s) of the manufacturer(s) producing the most number of cereal: []\n",
      "The name of the cereal(s) with highest calories: []\n",
      "The name of the cereal(s) with highest sugar: []\n",
      "The name of the five most popular cereals: []\n",
      "The name of the five least popular cereals: []\n",
      "\n",
      "\n"
     ]
    }
   ],
   "source": [
    "# save the results as a list of elements\n",
    "cereal_most_manufacturer = []\n",
    "cereal_highest_calories_name = []\n",
    "cereal_highest_sugar_name = []\n",
    "cereal_most_popular = []\n",
    "cereal_least_popular = []\n",
    "\n",
    "# write your code below\n",
    "# start - your code\n",
    "\n",
    "#1.a\n",
    "\n",
    "\n",
    "#1.b\n",
    "\n",
    "\n",
    "#1.c\n",
    "\n",
    "\n",
    "#1.d\n",
    "\n",
    "            \n",
    "\n",
    "# end - your code \n",
    "\n",
    "\n",
    "# test\n",
    "\n",
    "print (\"The name(s) of the manufacturer(s) producing the most number of cereal:\",  cereal_most_manufacturer)\n",
    "print (\"The name of the cereal(s) with highest calories:\",  cereal_highest_calories_name)\n",
    "print (\"The name of the cereal(s) with highest sugar:\",  cereal_highest_sugar_name)\n",
    "print (\"The name of the five most popular cereals:\",  cereal_most_popular)\n",
    "print (\"The name of the five least popular cereals:\",  cereal_least_popular)\n",
    "print (\"\\n\")\n"
   ]
  },
  {
   "cell_type": "markdown",
   "metadata": {},
   "source": [
    "**2.**  Download the file *ihockeychampions.json* from D2L. It contains info about the winners of the Ice Hockey World Championships from 2001 to 2021. \n",
    "\n",
    "First, open the JSON file and deserialize it using JSON API to construct a corresponding Python object. \n",
    "\n",
    "Then, \n",
    "\n",
    "**2.a** Write a program to process the data and print the years in which Sweden won the gold medal. (**5 points**)\n",
    "\n",
    "**2.b** Write a program to find the country who won the gold medal most, and how many times? (**5 points**)\n"
   ]
  },
  {
   "cell_type": "code",
   "execution_count": 4,
   "metadata": {
    "scrolled": true
   },
   "outputs": [],
   "source": [
    "# write your code below\n",
    "\n",
    "#2.a\n",
    "\n",
    "\n",
    "#2.b\n",
    "\n",
    "\n",
    "# your code - end\n",
    "\n"
   ]
  },
  {
   "cell_type": "code",
   "execution_count": null,
   "metadata": {},
   "outputs": [],
   "source": []
  }
 ],
 "metadata": {
  "anaconda-cloud": {},
  "kernelspec": {
   "display_name": "Python 3 (ipykernel)",
   "language": "python",
   "name": "python3"
  },
  "language_info": {
   "codemirror_mode": {
    "name": "ipython",
    "version": 3
   },
   "file_extension": ".py",
   "mimetype": "text/x-python",
   "name": "python",
   "nbconvert_exporter": "python",
   "pygments_lexer": "ipython3",
   "version": "3.9.13"
  }
 },
 "nbformat": 4,
 "nbformat_minor": 1
}

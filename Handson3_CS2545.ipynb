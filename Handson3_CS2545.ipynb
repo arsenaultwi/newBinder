{
 "cells": [
  {
   "cell_type": "markdown",
   "metadata": {},
   "source": [
    "# Hands-on 3\n",
    "\n",
    "### CS2545 - Data Science ###\n",
    "### Winter, 2023 ###\n",
    "### UNB, Fredericton ###\n",
    "\n",
    "Please complete the following and submit this notebook (filename: handson3-**lastname**-**firstname**.ipynb) on D2L by **11:59pm, Friday, February 24**. \n",
    "</br>\n",
    "Late submission until **11:59pm, Sunday, February 26 is possible** with a **penalty of 5%**. \n",
    "</br>\n",
    "</br>"
   ]
  },
  {
   "cell_type": "markdown",
   "metadata": {},
   "source": [
    "**Q1.**  Create a 7X7 NumPy array with random numbers. Print the element at 2nd row, 3rd column and the element at 5th row and 6th column. **(2 points)**"
   ]
  },
  {
   "cell_type": "code",
   "execution_count": 1,
   "metadata": {},
   "outputs": [],
   "source": [
    "import numpy as np\n",
    "import random\n",
    "\n",
    "np.random.seed(987654)\n",
    "\n",
    "# your code should start here\n",
    "\n"
   ]
  },
  {
   "cell_type": "markdown",
   "metadata": {},
   "source": [
    "**Q2.a** In the following, the list *closing_price* contains historical stock prices (closing price) of a technology company listed with NYSE. The *dates* list contains the corresponding dates.\n",
    "\n",
    "Using list comprehension create a list *range_prices*, which contains stock prices (closing price) that are between 120 and 130. **(3 points)**\n",
    "\n",
    "\n",
    "**Q2.b** Create a Pandas data series  *stock_data_series* from the list *closing_price* (as values) and *dates* (as index). Then, using a NumPy function find the median and average stock price. **(3 points)**"
   ]
  },
  {
   "cell_type": "code",
   "execution_count": 3,
   "metadata": {},
   "outputs": [],
   "source": [
    "import numpy as np\n",
    "\n",
    "closing_price = [139.02, 140.85, 141.13, 145.11, 134.05, 130.55, 129.10, 130.02, 131.21, 127.20, 126.45, 124.79, 119.64, 115.40, 115.43, 116.83, 115.67, 120.06, 123.12, 124.84, 123.38, 123.54]\n",
    "\n",
    "dates = ['10/11/2023', '10/12/2023', '10/15/2023', '10/16/2023', '10/17/2023', '10/18/2023', '10/19/2023', '10/22/2023', '10/23/2023', '10/24/2023', '10/25/2023', '10/26/2023', '10/29/2023', '10/30/2023',  '10/31/2023', '11/1/2023', '11/2/2023', '11/5/2023', '11/6/2023', '11/7/2023', '11/8/2023', '11/9/2023']\n",
    "\n",
    "# Q2.a\n",
    "\n",
    "\n",
    "\n",
    "\n",
    "# Q2.b\n",
    "\n",
    "\n"
   ]
  },
  {
   "cell_type": "markdown",
   "metadata": {},
   "source": [
    "**Q3.**  Download the *cereal.csv* file from Hands-on 2. This includes information about the per serving nutritional content of a number of breakfast cereals. The columns in this file represent the following fields (detail and short) and data types: <br>\n",
    "cereal name [name] - String <br>\n",
    "manufacturer [mfr] - String <br>\n",
    "type (cold/hot) [type] - String  <br>\n",
    "calories (number) [calories] - Int <br>\n",
    "protein(g) [protein] - Int <br>\n",
    "fat(g) [fat] - Int <br>\n",
    "sodium(mg) [sodium] - Int <br>\n",
    "dietary fiber(g) [fiber] - Float <br>\n",
    "complex carbohydrates(g) [carbo] - Float <br>\n",
    "sugars(g) [sugars] -  Int <br>\n",
    "display shelf (1, 2, or 3, counting from the floor) [shelf] - Int <br>\n",
    "potassium(mg) [potass] - Int <br>\n",
    "vitamins & minerals  [vitamins] - Int <br>\n",
    "weight (in ounces) of one serving (single serving size) [weight] - Float <br>\n",
    "cups per serving [cups] - Float <br>\n",
    "rating - Float <br>\n",
    "<br>\n",
    "\n",
    "Note, the value -1 indicates missing data.\n",
    "\n",
    "\n",
    "**Q3.a** Load the data file *cereal.csv* into a dataframe *cereal_df* and show the first 7 rows. **(3 points)**\n",
    "\n",
    "\n",
    "**Q3.b** Create a second dataframe *cereal_df_new* from *cereal_df*, that only includes the columns *name*, *protein*,\t*fat*, *fiber*,\t*carbo*, *potass*,\t*vitamins*,\tand *rating*. Then show the first 7 rows of *cereal_df_new*.  **(3 points)**\n",
    "\n",
    "**Q3.c** Using dataframe *cereal_df_new* show the cereals with a rating 60 and higher. **(3 points)**\n",
    "\n",
    "**Q3.d** Using dataframe *cereal_df_new* show the cereals with the lowest and highest ratings. **(3 points)**\n",
    "\n",
    "*Hint: you can use head() function to show first n rows.*"
   ]
  },
  {
   "cell_type": "code",
   "execution_count": 9,
   "metadata": {},
   "outputs": [],
   "source": [
    "import pandas as pd\n",
    "\n",
    "# Q3.a \n",
    "\n"
   ]
  },
  {
   "cell_type": "code",
   "execution_count": 10,
   "metadata": {},
   "outputs": [],
   "source": [
    "# Q3.b\n",
    "\n"
   ]
  },
  {
   "cell_type": "code",
   "execution_count": 4,
   "metadata": {},
   "outputs": [],
   "source": [
    "# Q3.c\n",
    "\n"
   ]
  },
  {
   "cell_type": "code",
   "execution_count": null,
   "metadata": {},
   "outputs": [],
   "source": [
    "# Q3.d\n",
    "\n"
   ]
  }
 ],
 "metadata": {
  "anaconda-cloud": {},
  "kernelspec": {
   "display_name": "Python 3 (ipykernel)",
   "language": "python",
   "name": "python3"
  },
  "language_info": {
   "codemirror_mode": {
    "name": "ipython",
    "version": 3
   },
   "file_extension": ".py",
   "mimetype": "text/x-python",
   "name": "python",
   "nbconvert_exporter": "python",
   "pygments_lexer": "ipython3",
   "version": "3.9.13"
  }
 },
 "nbformat": 4,
 "nbformat_minor": 1
}
